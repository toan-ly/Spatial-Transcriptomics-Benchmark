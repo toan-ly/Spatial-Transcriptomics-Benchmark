{
 "cells": [
  {
   "cell_type": "code",
   "execution_count": 1,
   "metadata": {},
   "outputs": [],
   "source": [
    "import os\n",
    "import matplotlib.pyplot as plt\n",
    "from pathlib import Path\n",
    "import scanpy as sc\n",
    "import pandas as pd\n",
    "\n",
    "# from sklearn.metrics import adjusted_rand_score, adjusted_mutual_info_score, \\\n",
    "#                             homogeneity_completeness_v_measure\n",
    "from sklearn.preprocessing import LabelEncoder\n",
    "import time\n",
    "import psutil\n",
    "import tracemalloc\n",
    "import sys\n",
    "sys.path.append('/home/lytq/Spatial-Transcriptomics-Benchmark/DeepST/DeepST-main/deepst')\n",
    "from DeepST import run\n",
    "\n",
    "import warnings\n",
    "warnings.filterwarnings('ignore')\n",
    "\n",
    "sys.path.append('/home/lytq/Spatial-Transcriptomics-Benchmark/utils')\n",
    "from sdmbench import compute_ARI, compute_NMI, compute_CHAOS, compute_PAS, compute_ASW, compute_HOM, compute_COM\n",
    "\n",
    "\n",
    "def evaluate_clustering(adata: sc.AnnData, df_meta, time_taken: float, memory_used: float, output_dir: str) -> dict:\n",
    "    \"\"\"Evaluate clustering using sdmbench\"\"\"\n",
    "    gt_key = 'ground_truth'\n",
    "    pred_key = 'DeepST_refine_domain'\n",
    "    adata.obs['ground_truth'] = df_meta['fine_annot_type'].values\n",
    "    adata = adata[~pd.isnull(adata.obs['ground_truth'])]\n",
    "    \n",
    "    results = {\n",
    "        \"ARI\": compute_ARI(adata, gt_key, pred_key),\n",
    "        \"AMI\": compute_NMI(adata, gt_key, pred_key),\n",
    "        \"Homogeneity\": compute_HOM(adata, gt_key, pred_key),\n",
    "        \"Completeness\": compute_COM(adata, gt_key, pred_key),\n",
    "        \"ASW\": compute_ASW(adata, pred_key),\n",
    "        \"CHAOS\": compute_CHAOS(adata, pred_key),\n",
    "        \"PAS\": compute_PAS(adata, pred_key),\n",
    "        \"Time\": time_taken,\n",
    "        \"Memory\": memory_used\n",
    "    }\n",
    "    \n",
    "    df_results = pd.DataFrame([results])\n",
    "    df_results.to_csv(os.path.join(output_dir, \"metrics.csv\"), index=False)\n",
    "    return results\n",
    "    \n",
    "\n"
   ]
  },
  {
   "cell_type": "code",
   "execution_count": 6,
   "metadata": {},
   "outputs": [
    {
     "name": "stdout",
     "output_type": "stream",
     "text": [
      "Processing V1_Human_Breast_Cancer_Block_A_Section_1 ...\n"
     ]
    }
   ],
   "source": [
    "data_path = \"/home/lytq/Spatial-Transcriptomics-Benchmark/data/BRCA1\" #### to your path\n",
    "# sample = sys.argv[1]\n",
    "data_name = 'V1_Human_Breast_Cancer_Block_A_Section_1'\n",
    "\n",
    "\n",
    "save_root = Path(f'/home/lytq/Spatial-Transcriptomics-Benchmark/RESULTS/BRCA1/DeepST/')\n",
    "os.makedirs(save_root, exist_ok=True)\n",
    "\n",
    "start_time = time.time()\n",
    "tracemalloc.start()\n",
    "\n",
    "print('Processing', data_name, '...')\n",
    "n_domains = 20\n",
    "# n_domains = sys.argv[2]\n"
   ]
  },
  {
   "cell_type": "code",
   "execution_count": 3,
   "metadata": {},
   "outputs": [],
   "source": [
    "deepen = run(\n",
    "    save_path = save_root,\n",
    "    task = \"Identify_Domain\", #### DeepST includes two tasks, one is \"Identify_Domain\" and the other is \"Integration\"\n",
    "    pre_epochs = 800, ####  choose the number of training\n",
    "    epochs = 1000, #### choose the number of training\n",
    "    use_gpu = True)\n"
   ]
  },
  {
   "cell_type": "code",
   "execution_count": 7,
   "metadata": {},
   "outputs": [],
   "source": [
    "adata = deepen._get_adata(platform=\"Visium\", data_path=data_path, data_name=data_name)\n"
   ]
  },
  {
   "cell_type": "code",
   "execution_count": 8,
   "metadata": {},
   "outputs": [
    {
     "data": {
      "text/plain": [
       "AnnData object with n_obs × n_vars = 3798 × 36601\n",
       "    obs: 'in_tissue', 'array_row', 'array_col', 'imagecol', 'imagerow'\n",
       "    var: 'gene_ids', 'feature_types', 'genome'\n",
       "    uns: 'spatial'\n",
       "    obsm: 'spatial'"
      ]
     },
     "execution_count": 8,
     "metadata": {},
     "output_type": "execute_result"
    }
   ],
   "source": [
    "adata"
   ]
  },
  {
   "cell_type": "code",
   "execution_count": 13,
   "metadata": {},
   "outputs": [
    {
     "data": {
      "text/plain": [
       "Index(['AAACAAGTATCTCCCA-1', 'AAACACCAATAACTGC-1', 'AAACAGAGCGACTCCT-1',\n",
       "       'AAACAGGGTCTATATT-1', 'AAACAGTGTTCCTGGG-1', 'AAACATTTCCCGGATT-1',\n",
       "       'AAACCCGAACGAAATC-1', 'AAACCGGGTAGGTACC-1', 'AAACCTAAGCAGCCGG-1',\n",
       "       'AAACCTCATGAAGTTG-1',\n",
       "       ...\n",
       "       'TTGTGGTAGGAGGGAT-1', 'TTGTGGTGGTACTAAG-1', 'TTGTGTATGCCACCAA-1',\n",
       "       'TTGTTAGCAAATTCGA-1', 'TTGTTCAGTGTGCTAC-1', 'TTGTTGTGTGTCAAGA-1',\n",
       "       'TTGTTTCACATCCAGG-1', 'TTGTTTCATTAGTCTA-1', 'TTGTTTCCATACAACT-1',\n",
       "       'TTGTTTGTGTAAATTC-1'],\n",
       "      dtype='object', length=3798)"
      ]
     },
     "execution_count": 13,
     "metadata": {},
     "output_type": "execute_result"
    }
   ],
   "source": [
    "adata.obs_names"
   ]
  },
  {
   "cell_type": "code",
   "execution_count": 14,
   "metadata": {},
   "outputs": [
    {
     "data": {
      "text/html": [
       "<div>\n",
       "<style scoped>\n",
       "    .dataframe tbody tr th:only-of-type {\n",
       "        vertical-align: middle;\n",
       "    }\n",
       "\n",
       "    .dataframe tbody tr th {\n",
       "        vertical-align: top;\n",
       "    }\n",
       "\n",
       "    .dataframe thead th {\n",
       "        text-align: right;\n",
       "    }\n",
       "</style>\n",
       "<table border=\"1\" class=\"dataframe\">\n",
       "  <thead>\n",
       "    <tr style=\"text-align: right;\">\n",
       "      <th></th>\n",
       "      <th>annot_type</th>\n",
       "      <th>fine_annot_type</th>\n",
       "    </tr>\n",
       "    <tr>\n",
       "      <th>ID</th>\n",
       "      <th></th>\n",
       "      <th></th>\n",
       "    </tr>\n",
       "  </thead>\n",
       "  <tbody>\n",
       "    <tr>\n",
       "      <th>AAACAAGTATCTCCCA-1</th>\n",
       "      <td>Surrounding tumor</td>\n",
       "      <td>Tumor_edge_5</td>\n",
       "    </tr>\n",
       "    <tr>\n",
       "      <th>AAACACCAATAACTGC-1</th>\n",
       "      <td>Invasive</td>\n",
       "      <td>IDC_4</td>\n",
       "    </tr>\n",
       "    <tr>\n",
       "      <th>AAACAGAGCGACTCCT-1</th>\n",
       "      <td>Healthy</td>\n",
       "      <td>Healthy_1</td>\n",
       "    </tr>\n",
       "    <tr>\n",
       "      <th>AAACAGGGTCTATATT-1</th>\n",
       "      <td>Invasive</td>\n",
       "      <td>IDC_3</td>\n",
       "    </tr>\n",
       "    <tr>\n",
       "      <th>AAACAGTGTTCCTGGG-1</th>\n",
       "      <td>Invasive</td>\n",
       "      <td>IDC_4</td>\n",
       "    </tr>\n",
       "    <tr>\n",
       "      <th>...</th>\n",
       "      <td>...</td>\n",
       "      <td>...</td>\n",
       "    </tr>\n",
       "    <tr>\n",
       "      <th>TTGTTGTGTGTCAAGA-1</th>\n",
       "      <td>Invasive</td>\n",
       "      <td>IDC_7</td>\n",
       "    </tr>\n",
       "    <tr>\n",
       "      <th>TTGTTTCACATCCAGG-1</th>\n",
       "      <td>Invasive</td>\n",
       "      <td>IDC_4</td>\n",
       "    </tr>\n",
       "    <tr>\n",
       "      <th>TTGTTTCATTAGTCTA-1</th>\n",
       "      <td>Invasive</td>\n",
       "      <td>IDC_4</td>\n",
       "    </tr>\n",
       "    <tr>\n",
       "      <th>TTGTTTCCATACAACT-1</th>\n",
       "      <td>Surrounding tumor</td>\n",
       "      <td>Tumor_edge_2</td>\n",
       "    </tr>\n",
       "    <tr>\n",
       "      <th>TTGTTTGTGTAAATTC-1</th>\n",
       "      <td>Surrounding tumor</td>\n",
       "      <td>Tumor_edge_1</td>\n",
       "    </tr>\n",
       "  </tbody>\n",
       "</table>\n",
       "<p>3798 rows × 2 columns</p>\n",
       "</div>"
      ],
      "text/plain": [
       "                           annot_type fine_annot_type\n",
       "ID                                                   \n",
       "AAACAAGTATCTCCCA-1  Surrounding tumor    Tumor_edge_5\n",
       "AAACACCAATAACTGC-1           Invasive           IDC_4\n",
       "AAACAGAGCGACTCCT-1            Healthy       Healthy_1\n",
       "AAACAGGGTCTATATT-1           Invasive           IDC_3\n",
       "AAACAGTGTTCCTGGG-1           Invasive           IDC_4\n",
       "...                               ...             ...\n",
       "TTGTTGTGTGTCAAGA-1           Invasive           IDC_7\n",
       "TTGTTTCACATCCAGG-1           Invasive           IDC_4\n",
       "TTGTTTCATTAGTCTA-1           Invasive           IDC_4\n",
       "TTGTTTCCATACAACT-1  Surrounding tumor    Tumor_edge_2\n",
       "TTGTTTGTGTAAATTC-1  Surrounding tumor    Tumor_edge_1\n",
       "\n",
       "[3798 rows x 2 columns]"
      ]
     },
     "execution_count": 14,
     "metadata": {},
     "output_type": "execute_result"
    }
   ],
   "source": [
    "gt_df = pd.read_csv(data_path + '/' + data_name + '/metadata.tsv', sep='\\t', index_col=0)\n",
    "gt_df"
   ]
  },
  {
   "cell_type": "code",
   "execution_count": 15,
   "metadata": {},
   "outputs": [
    {
     "data": {
      "text/plain": [
       "AAACAAGTATCTCCCA-1    Tumor_edge_5\n",
       "AAACACCAATAACTGC-1           IDC_4\n",
       "AAACAGAGCGACTCCT-1       Healthy_1\n",
       "AAACAGGGTCTATATT-1           IDC_3\n",
       "AAACAGTGTTCCTGGG-1           IDC_4\n",
       "                          ...     \n",
       "TTGTTGTGTGTCAAGA-1           IDC_7\n",
       "TTGTTTCACATCCAGG-1           IDC_4\n",
       "TTGTTTCATTAGTCTA-1           IDC_4\n",
       "TTGTTTCCATACAACT-1    Tumor_edge_2\n",
       "TTGTTTGTGTAAATTC-1    Tumor_edge_1\n",
       "Name: fine_annot_type, Length: 3798, dtype: object"
      ]
     },
     "execution_count": 15,
     "metadata": {},
     "output_type": "execute_result"
    }
   ],
   "source": [
    "gt_df.loc[adata.obs_names, 'fine_annot_type']\n"
   ]
  },
  {
   "cell_type": "code",
   "execution_count": 10,
   "metadata": {},
   "outputs": [
    {
     "ename": "KeyError",
     "evalue": "\"None of [Index(['AAACAAGTATCTCCCA-1', 'AAACACCAATAACTGC-1', 'AAACAGAGCGACTCCT-1',\\n       'AAACAGGGTCTATATT-1', 'AAACAGTGTTCCTGGG-1', 'AAACATTTCCCGGATT-1',\\n       'AAACCCGAACGAAATC-1', 'AAACCGGGTAGGTACC-1', 'AAACCTAAGCAGCCGG-1',\\n       'AAACCTCATGAAGTTG-1',\\n       ...\\n       'TTGTGGTAGGAGGGAT-1', 'TTGTGGTGGTACTAAG-1', 'TTGTGTATGCCACCAA-1',\\n       'TTGTTAGCAAATTCGA-1', 'TTGTTCAGTGTGCTAC-1', 'TTGTTGTGTGTCAAGA-1',\\n       'TTGTTTCACATCCAGG-1', 'TTGTTTCATTAGTCTA-1', 'TTGTTTCCATACAACT-1',\\n       'TTGTTTGTGTAAATTC-1'],\\n      dtype='object', length=3798)] are in the [index]\"",
     "output_type": "error",
     "traceback": [
      "\u001b[0;31m---------------------------------------------------------------------------\u001b[0m",
      "\u001b[0;31mKeyError\u001b[0m                                  Traceback (most recent call last)",
      "Cell \u001b[0;32mIn[10], line 1\u001b[0m\n\u001b[0;32m----> 1\u001b[0m adata\u001b[38;5;241m.\u001b[39mobs[\u001b[38;5;124m'\u001b[39m\u001b[38;5;124mGround Truth\u001b[39m\u001b[38;5;124m'\u001b[39m] \u001b[38;5;241m=\u001b[39m \u001b[43mgt_df\u001b[49m\u001b[38;5;241;43m.\u001b[39;49m\u001b[43mloc\u001b[49m\u001b[43m[\u001b[49m\u001b[43madata\u001b[49m\u001b[38;5;241;43m.\u001b[39;49m\u001b[43mobs_names\u001b[49m\u001b[43m,\u001b[49m\u001b[43m \u001b[49m\u001b[38;5;124;43m'\u001b[39;49m\u001b[38;5;124;43mfine_annot_type\u001b[39;49m\u001b[38;5;124;43m'\u001b[39;49m\u001b[43m]\u001b[49m\n",
      "File \u001b[0;32m~/.conda/envs/deepst/lib/python3.9/site-packages/pandas/core/indexing.py:1067\u001b[0m, in \u001b[0;36m_LocationIndexer.__getitem__\u001b[0;34m(self, key)\u001b[0m\n\u001b[1;32m   1065\u001b[0m     \u001b[38;5;28;01mif\u001b[39;00m \u001b[38;5;28mself\u001b[39m\u001b[38;5;241m.\u001b[39m_is_scalar_access(key):\n\u001b[1;32m   1066\u001b[0m         \u001b[38;5;28;01mreturn\u001b[39;00m \u001b[38;5;28mself\u001b[39m\u001b[38;5;241m.\u001b[39mobj\u001b[38;5;241m.\u001b[39m_get_value(\u001b[38;5;241m*\u001b[39mkey, takeable\u001b[38;5;241m=\u001b[39m\u001b[38;5;28mself\u001b[39m\u001b[38;5;241m.\u001b[39m_takeable)\n\u001b[0;32m-> 1067\u001b[0m     \u001b[38;5;28;01mreturn\u001b[39;00m \u001b[38;5;28;43mself\u001b[39;49m\u001b[38;5;241;43m.\u001b[39;49m\u001b[43m_getitem_tuple\u001b[49m\u001b[43m(\u001b[49m\u001b[43mkey\u001b[49m\u001b[43m)\u001b[49m\n\u001b[1;32m   1068\u001b[0m \u001b[38;5;28;01melse\u001b[39;00m:\n\u001b[1;32m   1069\u001b[0m     \u001b[38;5;66;03m# we by definition only have the 0th axis\u001b[39;00m\n\u001b[1;32m   1070\u001b[0m     axis \u001b[38;5;241m=\u001b[39m \u001b[38;5;28mself\u001b[39m\u001b[38;5;241m.\u001b[39maxis \u001b[38;5;129;01mor\u001b[39;00m \u001b[38;5;241m0\u001b[39m\n",
      "File \u001b[0;32m~/.conda/envs/deepst/lib/python3.9/site-packages/pandas/core/indexing.py:1247\u001b[0m, in \u001b[0;36m_LocIndexer._getitem_tuple\u001b[0;34m(self, tup)\u001b[0m\n\u001b[1;32m   1245\u001b[0m \u001b[38;5;28;01mwith\u001b[39;00m suppress(IndexingError):\n\u001b[1;32m   1246\u001b[0m     tup \u001b[38;5;241m=\u001b[39m \u001b[38;5;28mself\u001b[39m\u001b[38;5;241m.\u001b[39m_expand_ellipsis(tup)\n\u001b[0;32m-> 1247\u001b[0m     \u001b[38;5;28;01mreturn\u001b[39;00m \u001b[38;5;28;43mself\u001b[39;49m\u001b[38;5;241;43m.\u001b[39;49m\u001b[43m_getitem_lowerdim\u001b[49m\u001b[43m(\u001b[49m\u001b[43mtup\u001b[49m\u001b[43m)\u001b[49m\n\u001b[1;32m   1249\u001b[0m \u001b[38;5;66;03m# no multi-index, so validate all of the indexers\u001b[39;00m\n\u001b[1;32m   1250\u001b[0m tup \u001b[38;5;241m=\u001b[39m \u001b[38;5;28mself\u001b[39m\u001b[38;5;241m.\u001b[39m_validate_tuple_indexer(tup)\n",
      "File \u001b[0;32m~/.conda/envs/deepst/lib/python3.9/site-packages/pandas/core/indexing.py:991\u001b[0m, in \u001b[0;36m_LocationIndexer._getitem_lowerdim\u001b[0;34m(self, tup)\u001b[0m\n\u001b[1;32m    989\u001b[0m             \u001b[38;5;28;01mreturn\u001b[39;00m section\n\u001b[1;32m    990\u001b[0m         \u001b[38;5;66;03m# This is an elided recursive call to iloc/loc\u001b[39;00m\n\u001b[0;32m--> 991\u001b[0m         \u001b[38;5;28;01mreturn\u001b[39;00m \u001b[38;5;28;43mgetattr\u001b[39;49m\u001b[43m(\u001b[49m\u001b[43msection\u001b[49m\u001b[43m,\u001b[49m\u001b[43m \u001b[49m\u001b[38;5;28;43mself\u001b[39;49m\u001b[38;5;241;43m.\u001b[39;49m\u001b[43mname\u001b[49m\u001b[43m)\u001b[49m\u001b[43m[\u001b[49m\u001b[43mnew_key\u001b[49m\u001b[43m]\u001b[49m\n\u001b[1;32m    993\u001b[0m \u001b[38;5;28;01mraise\u001b[39;00m IndexingError(\u001b[38;5;124m\"\u001b[39m\u001b[38;5;124mnot applicable\u001b[39m\u001b[38;5;124m\"\u001b[39m)\n",
      "File \u001b[0;32m~/.conda/envs/deepst/lib/python3.9/site-packages/pandas/core/indexing.py:1073\u001b[0m, in \u001b[0;36m_LocationIndexer.__getitem__\u001b[0;34m(self, key)\u001b[0m\n\u001b[1;32m   1070\u001b[0m axis \u001b[38;5;241m=\u001b[39m \u001b[38;5;28mself\u001b[39m\u001b[38;5;241m.\u001b[39maxis \u001b[38;5;129;01mor\u001b[39;00m \u001b[38;5;241m0\u001b[39m\n\u001b[1;32m   1072\u001b[0m maybe_callable \u001b[38;5;241m=\u001b[39m com\u001b[38;5;241m.\u001b[39mapply_if_callable(key, \u001b[38;5;28mself\u001b[39m\u001b[38;5;241m.\u001b[39mobj)\n\u001b[0;32m-> 1073\u001b[0m \u001b[38;5;28;01mreturn\u001b[39;00m \u001b[38;5;28;43mself\u001b[39;49m\u001b[38;5;241;43m.\u001b[39;49m\u001b[43m_getitem_axis\u001b[49m\u001b[43m(\u001b[49m\u001b[43mmaybe_callable\u001b[49m\u001b[43m,\u001b[49m\u001b[43m \u001b[49m\u001b[43maxis\u001b[49m\u001b[38;5;241;43m=\u001b[39;49m\u001b[43maxis\u001b[49m\u001b[43m)\u001b[49m\n",
      "File \u001b[0;32m~/.conda/envs/deepst/lib/python3.9/site-packages/pandas/core/indexing.py:1301\u001b[0m, in \u001b[0;36m_LocIndexer._getitem_axis\u001b[0;34m(self, key, axis)\u001b[0m\n\u001b[1;32m   1298\u001b[0m     \u001b[38;5;28;01mif\u001b[39;00m \u001b[38;5;28mhasattr\u001b[39m(key, \u001b[38;5;124m\"\u001b[39m\u001b[38;5;124mndim\u001b[39m\u001b[38;5;124m\"\u001b[39m) \u001b[38;5;129;01mand\u001b[39;00m key\u001b[38;5;241m.\u001b[39mndim \u001b[38;5;241m>\u001b[39m \u001b[38;5;241m1\u001b[39m:\n\u001b[1;32m   1299\u001b[0m         \u001b[38;5;28;01mraise\u001b[39;00m \u001b[38;5;167;01mValueError\u001b[39;00m(\u001b[38;5;124m\"\u001b[39m\u001b[38;5;124mCannot index with multidimensional key\u001b[39m\u001b[38;5;124m\"\u001b[39m)\n\u001b[0;32m-> 1301\u001b[0m     \u001b[38;5;28;01mreturn\u001b[39;00m \u001b[38;5;28;43mself\u001b[39;49m\u001b[38;5;241;43m.\u001b[39;49m\u001b[43m_getitem_iterable\u001b[49m\u001b[43m(\u001b[49m\u001b[43mkey\u001b[49m\u001b[43m,\u001b[49m\u001b[43m \u001b[49m\u001b[43maxis\u001b[49m\u001b[38;5;241;43m=\u001b[39;49m\u001b[43maxis\u001b[49m\u001b[43m)\u001b[49m\n\u001b[1;32m   1303\u001b[0m \u001b[38;5;66;03m# nested tuple slicing\u001b[39;00m\n\u001b[1;32m   1304\u001b[0m \u001b[38;5;28;01mif\u001b[39;00m is_nested_tuple(key, labels):\n",
      "File \u001b[0;32m~/.conda/envs/deepst/lib/python3.9/site-packages/pandas/core/indexing.py:1239\u001b[0m, in \u001b[0;36m_LocIndexer._getitem_iterable\u001b[0;34m(self, key, axis)\u001b[0m\n\u001b[1;32m   1236\u001b[0m \u001b[38;5;28mself\u001b[39m\u001b[38;5;241m.\u001b[39m_validate_key(key, axis)\n\u001b[1;32m   1238\u001b[0m \u001b[38;5;66;03m# A collection of keys\u001b[39;00m\n\u001b[0;32m-> 1239\u001b[0m keyarr, indexer \u001b[38;5;241m=\u001b[39m \u001b[38;5;28;43mself\u001b[39;49m\u001b[38;5;241;43m.\u001b[39;49m\u001b[43m_get_listlike_indexer\u001b[49m\u001b[43m(\u001b[49m\u001b[43mkey\u001b[49m\u001b[43m,\u001b[49m\u001b[43m \u001b[49m\u001b[43maxis\u001b[49m\u001b[43m)\u001b[49m\n\u001b[1;32m   1240\u001b[0m \u001b[38;5;28;01mreturn\u001b[39;00m \u001b[38;5;28mself\u001b[39m\u001b[38;5;241m.\u001b[39mobj\u001b[38;5;241m.\u001b[39m_reindex_with_indexers(\n\u001b[1;32m   1241\u001b[0m     {axis: [keyarr, indexer]}, copy\u001b[38;5;241m=\u001b[39m\u001b[38;5;28;01mTrue\u001b[39;00m, allow_dups\u001b[38;5;241m=\u001b[39m\u001b[38;5;28;01mTrue\u001b[39;00m\n\u001b[1;32m   1242\u001b[0m )\n",
      "File \u001b[0;32m~/.conda/envs/deepst/lib/python3.9/site-packages/pandas/core/indexing.py:1432\u001b[0m, in \u001b[0;36m_LocIndexer._get_listlike_indexer\u001b[0;34m(self, key, axis)\u001b[0m\n\u001b[1;32m   1429\u001b[0m ax \u001b[38;5;241m=\u001b[39m \u001b[38;5;28mself\u001b[39m\u001b[38;5;241m.\u001b[39mobj\u001b[38;5;241m.\u001b[39m_get_axis(axis)\n\u001b[1;32m   1430\u001b[0m axis_name \u001b[38;5;241m=\u001b[39m \u001b[38;5;28mself\u001b[39m\u001b[38;5;241m.\u001b[39mobj\u001b[38;5;241m.\u001b[39m_get_axis_name(axis)\n\u001b[0;32m-> 1432\u001b[0m keyarr, indexer \u001b[38;5;241m=\u001b[39m \u001b[43max\u001b[49m\u001b[38;5;241;43m.\u001b[39;49m\u001b[43m_get_indexer_strict\u001b[49m\u001b[43m(\u001b[49m\u001b[43mkey\u001b[49m\u001b[43m,\u001b[49m\u001b[43m \u001b[49m\u001b[43maxis_name\u001b[49m\u001b[43m)\u001b[49m\n\u001b[1;32m   1434\u001b[0m \u001b[38;5;28;01mreturn\u001b[39;00m keyarr, indexer\n",
      "File \u001b[0;32m~/.conda/envs/deepst/lib/python3.9/site-packages/pandas/core/indexes/base.py:6070\u001b[0m, in \u001b[0;36mIndex._get_indexer_strict\u001b[0;34m(self, key, axis_name)\u001b[0m\n\u001b[1;32m   6067\u001b[0m \u001b[38;5;28;01melse\u001b[39;00m:\n\u001b[1;32m   6068\u001b[0m     keyarr, indexer, new_indexer \u001b[38;5;241m=\u001b[39m \u001b[38;5;28mself\u001b[39m\u001b[38;5;241m.\u001b[39m_reindex_non_unique(keyarr)\n\u001b[0;32m-> 6070\u001b[0m \u001b[38;5;28;43mself\u001b[39;49m\u001b[38;5;241;43m.\u001b[39;49m\u001b[43m_raise_if_missing\u001b[49m\u001b[43m(\u001b[49m\u001b[43mkeyarr\u001b[49m\u001b[43m,\u001b[49m\u001b[43m \u001b[49m\u001b[43mindexer\u001b[49m\u001b[43m,\u001b[49m\u001b[43m \u001b[49m\u001b[43maxis_name\u001b[49m\u001b[43m)\u001b[49m\n\u001b[1;32m   6072\u001b[0m keyarr \u001b[38;5;241m=\u001b[39m \u001b[38;5;28mself\u001b[39m\u001b[38;5;241m.\u001b[39mtake(indexer)\n\u001b[1;32m   6073\u001b[0m \u001b[38;5;28;01mif\u001b[39;00m \u001b[38;5;28misinstance\u001b[39m(key, Index):\n\u001b[1;32m   6074\u001b[0m     \u001b[38;5;66;03m# GH 42790 - Preserve name from an Index\u001b[39;00m\n",
      "File \u001b[0;32m~/.conda/envs/deepst/lib/python3.9/site-packages/pandas/core/indexes/base.py:6130\u001b[0m, in \u001b[0;36mIndex._raise_if_missing\u001b[0;34m(self, key, indexer, axis_name)\u001b[0m\n\u001b[1;32m   6128\u001b[0m     \u001b[38;5;28;01mif\u001b[39;00m use_interval_msg:\n\u001b[1;32m   6129\u001b[0m         key \u001b[38;5;241m=\u001b[39m \u001b[38;5;28mlist\u001b[39m(key)\n\u001b[0;32m-> 6130\u001b[0m     \u001b[38;5;28;01mraise\u001b[39;00m \u001b[38;5;167;01mKeyError\u001b[39;00m(\u001b[38;5;124mf\u001b[39m\u001b[38;5;124m\"\u001b[39m\u001b[38;5;124mNone of [\u001b[39m\u001b[38;5;132;01m{\u001b[39;00mkey\u001b[38;5;132;01m}\u001b[39;00m\u001b[38;5;124m] are in the [\u001b[39m\u001b[38;5;132;01m{\u001b[39;00maxis_name\u001b[38;5;132;01m}\u001b[39;00m\u001b[38;5;124m]\u001b[39m\u001b[38;5;124m\"\u001b[39m)\n\u001b[1;32m   6132\u001b[0m not_found \u001b[38;5;241m=\u001b[39m \u001b[38;5;28mlist\u001b[39m(ensure_index(key)[missing_mask\u001b[38;5;241m.\u001b[39mnonzero()[\u001b[38;5;241m0\u001b[39m]]\u001b[38;5;241m.\u001b[39munique())\n\u001b[1;32m   6133\u001b[0m \u001b[38;5;28;01mraise\u001b[39;00m \u001b[38;5;167;01mKeyError\u001b[39;00m(\u001b[38;5;124mf\u001b[39m\u001b[38;5;124m\"\u001b[39m\u001b[38;5;132;01m{\u001b[39;00mnot_found\u001b[38;5;132;01m}\u001b[39;00m\u001b[38;5;124m not in index\u001b[39m\u001b[38;5;124m\"\u001b[39m)\n",
      "\u001b[0;31mKeyError\u001b[0m: \"None of [Index(['AAACAAGTATCTCCCA-1', 'AAACACCAATAACTGC-1', 'AAACAGAGCGACTCCT-1',\\n       'AAACAGGGTCTATATT-1', 'AAACAGTGTTCCTGGG-1', 'AAACATTTCCCGGATT-1',\\n       'AAACCCGAACGAAATC-1', 'AAACCGGGTAGGTACC-1', 'AAACCTAAGCAGCCGG-1',\\n       'AAACCTCATGAAGTTG-1',\\n       ...\\n       'TTGTGGTAGGAGGGAT-1', 'TTGTGGTGGTACTAAG-1', 'TTGTGTATGCCACCAA-1',\\n       'TTGTTAGCAAATTCGA-1', 'TTGTTCAGTGTGCTAC-1', 'TTGTTGTGTGTCAAGA-1',\\n       'TTGTTTCACATCCAGG-1', 'TTGTTTCATTAGTCTA-1', 'TTGTTTCCATACAACT-1',\\n       'TTGTTTGTGTAAATTC-1'],\\n      dtype='object', length=3798)] are in the [index]\""
     ]
    }
   ],
   "source": [
    "adata.obs['Ground Truth'] = gt_df.loc[adata.obs_names, 'fine_annot_type']"
   ]
  },
  {
   "cell_type": "code",
   "execution_count": null,
   "metadata": {},
   "outputs": [],
   "source": [
    "\n",
    "adata.obs['Ground Truth'] = gt_df.loc[adata.obs_names, 'fine_annot_type']\n",
    "adata.layers['count'] = adata.X.toarray()\n",
    "\n",
    "###### Segment the Morphological Image\n",
    "adata = deepen._get_image_crop(adata, data_name=data_name)\n",
    "\n",
    "###### Data augmentation. spatial_type includes three kinds of \"KDTree\", \"BallTree\" and \"LinearRegress\", among which \"LinearRegress\"\n",
    "###### is only applicable to 10x visium and the remaining omics selects the other two.\n",
    "###### \"use_morphological\" defines whether to use morphological images.\n",
    "adata = deepen._get_augment(adata, spatial_type=\"LinearRegress\", use_morphological=True)\n",
    "\n",
    "###### Build graphs. \"distType\" includes \"KDTree\", \"BallTree\", \"kneighbors_graph\", \"Radius\", etc., see adj.py\n",
    "graph_dict = deepen._get_graph(adata.obsm[\"spatial\"], distType = \"BallTree\")\n",
    "\n",
    "###### Enhanced data preprocessing\n",
    "data = deepen._data_process(adata, pca_n_comps = 200)\n",
    "\n",
    "###### Training models\n",
    "deepst_embed = deepen._fit(\n",
    "    data = data,\n",
    "    graph_dict = graph_dict,\n",
    ")\n",
    "# Remove Image_crop folder after training\n",
    "os.system(f'rm -r {save_root}/Image_crop')\n",
    "\n",
    "###### DeepST outputs\n",
    "adata.obsm[\"DeepST_embed\"] = deepst_embed\n",
    "\n",
    "###### Define the number of space domains, and the model can also be customized. If it is a model custom priori = False.\n",
    "adata = deepen._get_cluster_data(adata, n_domains=n_domains, priori = True)\n",
    "# print(adata)\n",
    "\n",
    "\n",
    "###### Calculate the time and memory used\n",
    "time_taken = time.time() - start_time\n",
    "size, peak = tracemalloc.get_traced_memory()\n",
    "tracemalloc.stop()\n",
    "memory_used = peak / (1024 ** 2) # MB\n",
    "\n",
    "####### Calculate clustering metrics\n",
    "# obs_df = adata.obs.dropna()\n",
    "clustering_results = evaluate_clustering(adata, gt_df, time_taken, memory_used, save_root)\n",
    "clustering_results.to_csv(save_root / 'metrics.csv', index=False)\n",
    "\n",
    "###### Spatial localization map of the spatial domain\n",
    "fig, ax = plt.subplots(1, 1, figsize=(6, 6))        \n",
    "sc.pl.spatial(adata, \n",
    "                color='DeepST_refine_domain',\n",
    "                frameon = False, \n",
    "                spot_size=150, \n",
    "                title=f'DeepST (ARI = {clustering_results[\"ARI\"]:.4f})',\n",
    "                ax=ax)  \n",
    "handles, labels = ax.get_legend_handles_labels()\n",
    "new_labels = [str(int(label) + 1) if label.isdigit() else label for label in labels]\n",
    "ax.legend(handles, new_labels, loc='center left', bbox_to_anchor=(1.05, 0.5), frameon=False) \n",
    "plt.savefig(os.path.join(save_root, f'clustering.pdf'), bbox_inches='tight', dpi=300)\n",
    "\n",
    "adata.obs['DeepST'] = adata.obs['DeepST_refine_domain']\n",
    "\n",
    "# adata.write(save_root / 'result.h5ad')\n",
    "# df_PC = pd.DataFrame(data=adata.obsm['DeepST_embed'], index=adata.obs.index)\n",
    "# df_PC.to_csv(save_root / 'PCs.tsv', sep='\\t')\n",
    "# adata.obs.to_csv( save_root / 'metadata.tsv', sep='\\t')\n",
    "\n",
    "###### UMAP visualization\n",
    "sc.pp.neighbors(adata, use_rep='DeepST_embed', n_neighbors=10)\n",
    "sc.tl.umap(adata)\n",
    "\n",
    "fig, axes = plt.subplots(1,1,figsize=(4*2, 3))\n",
    "sc.pl.umap(adata, color='Ground Truth', ax=axes[0], show=False)\n",
    "sc.pl.umap(adata, color='DeepST_refine_domain', ax=axes[1], show=False)\n",
    "axes[0].set_title('Manual Annotation')\n",
    "axes[1].set_title('DeepST')\n",
    "handles, labels = axes[1].get_legend_handles_labels()\n",
    "new_labels = [str(int(label) + 1) if label.isdigit() else label for label in labels]\n",
    "axes[1].legend(handles, new_labels, loc='center left', frameon=False, bbox_to_anchor=(1, 0.5))\n",
    "for ax in axes:\n",
    "    ax.set_aspect(1)\n",
    "plt.tight_layout()\n",
    "plt.savefig(os.path.join(save_root, f'umap.pdf'), bbox_inches='tight', dpi=300)\n",
    "\n",
    "low_dim_data = pd.DataFrame(adata.obsm['image_feat'], index=adata.obs.index)\n",
    "# expression_data = pd.DataFrame(adata.layers['count'], index=adata.obs.index, columns=adata.var.index)\n",
    "cell_metadata = adata.obs\n",
    "\n",
    "low_dim_data.to_csv(f\"{save_root}/low_dim_data.csv\", index=False)\n",
    "# expression_data.T.to_csv(f\"{save_root}/expression_matrix.csv\")\n",
    "cell_metadata.to_csv(f\"{save_root}/cell_metadata.csv\", index=False)\n",
    "\n",
    "umap_coords = adata.obsm[\"X_umap\"]\n",
    "spot_ids = adata.obs_names\n",
    "umap_df = pd.DataFrame(umap_coords, columns=[\"UMAP1\", \"UMAP2\"])\n",
    "umap_df[\"spot_id\"] = spot_ids\n",
    "umap_df = umap_df[[\"spot_id\", \"UMAP1\", \"UMAP2\"]]\n",
    "umap_df.to_csv(os.path.join(save_root, \"spatial_umap_coords.csv\"), index=False)\n",
    "\n",
    "print('Done', data_name)\n"
   ]
  }
 ],
 "metadata": {
  "kernelspec": {
   "display_name": "deepst",
   "language": "python",
   "name": "python3"
  },
  "language_info": {
   "codemirror_mode": {
    "name": "ipython",
    "version": 3
   },
   "file_extension": ".py",
   "mimetype": "text/x-python",
   "name": "python",
   "nbconvert_exporter": "python",
   "pygments_lexer": "ipython3",
   "version": "3.9.21"
  }
 },
 "nbformat": 4,
 "nbformat_minor": 2
}
