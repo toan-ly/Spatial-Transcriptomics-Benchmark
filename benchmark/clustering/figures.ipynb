{
 "cells": [
  {
   "cell_type": "code",
   "execution_count": 113,
   "metadata": {},
   "outputs": [],
   "source": [
    "import os\n",
    "import pandas as pd\n",
    "\n",
    "def run(sec_id):\n",
    "    path = '/home/lytq/Spatial-Transcriptomics-Benchmark/Results/results_new/DLPFC'\n",
    "    tbl = pd.read_csv(os.path.join(path, 'metrics.csv'),)\n",
    "    tbl = tbl[['conST', 'ARI']]\n",
    "    i = 12\n",
    "    temp = tbl.iloc[[i, i + 13, i + 13*2, i + 13*3, i+13*4, i+13*5, i+13*6, i+13*7, i+13*8, i+13*9, i+13*10]]\n",
    "    rows = tbl[tbl['conST'].astype(str).str.contains(sec_id)]\n",
    "    res = pd.concat([temp, rows])\n",
    "    res = res.sort_index()\n",
    "    res = res.reset_index(drop=True)\n",
    "\n",
    "    method = ['BayesSpace', 'conST', 'DeepST', 'SpaGCN', 'GraphST', 'PRECAST', 'STAGATE', 'SEDR', 'stLearn', 'Seurat', 'SpaceFlow']\n",
    "    # Get row index of each method\n",
    "    print(f'========== {sec_id} ===========')\n",
    "    row_indices = []\n",
    "    for m in method:\n",
    "        row_indices.append(res[res['conST'].astype(str).str.contains(m)].index.tolist())\n",
    "\n",
    "    for i in range(len(row_indices)):\n",
    "        if i == 1:\n",
    "            print(f'conST: {float(res.iloc[0, 1]):.3f}')\n",
    "        else:\n",
    "            print(f'{method[i]}: {float(res.iloc[row_indices[i][0] + 1, 1]):.3f}')"
   ]
  },
  {
   "cell_type": "code",
   "execution_count": 114,
   "metadata": {},
   "outputs": [
    {
     "name": "stdout",
     "output_type": "stream",
     "text": [
      "========== 151676 ===========\n",
      "BayesSpace: 0.371\n",
      "conST: 0.478\n",
      "DeepST: 0.527\n",
      "SpaGCN: 0.345\n",
      "GraphST: 0.566\n",
      "PRECAST: 0.370\n",
      "STAGATE: 0.440\n",
      "SEDR: 0.556\n",
      "stLearn: 0.400\n",
      "Seurat: 0.312\n",
      "SpaceFlow: 0.355\n"
     ]
    }
   ],
   "source": [
    "sec_id = '151676'\n",
    "run(sec_id)"
   ]
  },
  {
   "cell_type": "code",
   "execution_count": null,
   "metadata": {},
   "outputs": [],
   "source": []
  }
 ],
 "metadata": {
  "kernelspec": {
   "display_name": "SEDR",
   "language": "python",
   "name": "python3"
  },
  "language_info": {
   "codemirror_mode": {
    "name": "ipython",
    "version": 3
   },
   "file_extension": ".py",
   "mimetype": "text/x-python",
   "name": "python",
   "nbconvert_exporter": "python",
   "pygments_lexer": "ipython3",
   "version": "undefined.undefined.undefined"
  }
 },
 "nbformat": 4,
 "nbformat_minor": 2
}
