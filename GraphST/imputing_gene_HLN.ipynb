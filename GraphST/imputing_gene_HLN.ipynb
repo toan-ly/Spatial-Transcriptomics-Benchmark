{
 "cells": [
  {
   "cell_type": "code",
   "execution_count": 27,
   "metadata": {},
   "outputs": [],
   "source": [
    "import os\n",
    "import torch\n",
    "import pandas as pd\n",
    "import scanpy as sc\n",
    "import numpy as np\n",
    "from sklearn import metrics\n",
    "import multiprocessing as mp\n",
    "import warnings\n",
    "warnings.filterwarnings(\"ignore\")\n",
    "\n",
    "from scipy.stats import pearsonr\n",
    "from skimage.metrics import structural_similarity as ssim\n",
    "from sklearn.metrics import mean_squared_error as mse\n",
    "from scipy.sparse import csr_matrix\n",
    "\n",
    "from libpysal.weights import KNN\n",
    "from esda.moran import Moran\n",
    "\n",
    "from GraphST import GraphST"
   ]
  },
  {
   "cell_type": "code",
   "execution_count": 28,
   "metadata": {},
   "outputs": [],
   "source": [
    "device = torch.device(\"cuda:5\" if torch.cuda.is_available() else \"cpu\")"
   ]
  },
  {
   "cell_type": "code",
   "execution_count": 29,
   "metadata": {},
   "outputs": [],
   "source": [
    "dataset = 'Human_Lymph_Node'"
   ]
  },
  {
   "cell_type": "code",
   "execution_count": 30,
   "metadata": {},
   "outputs": [],
   "source": [
    "file_fold = '/home/lytq/Spatial-Transcriptomics-Benchmark/data/' + dataset\n",
    "adata = sc.read_visium(file_fold, count_file='filtered_feature_bc_matrix.h5', load_images=True)\n",
    "adata.var_names_make_unique()"
   ]
  },
  {
   "cell_type": "code",
   "execution_count": 31,
   "metadata": {},
   "outputs": [],
   "source": [
    "adata_before = adata"
   ]
  },
  {
   "cell_type": "code",
   "execution_count": 32,
   "metadata": {},
   "outputs": [
    {
     "name": "stdout",
     "output_type": "stream",
     "text": [
      "AnnData object with n_obs × n_vars = 4035 × 36601\n",
      "    obs: 'in_tissue', 'array_row', 'array_col'\n",
      "    var: 'gene_ids', 'feature_types', 'genome', 'highly_variable', 'highly_variable_rank', 'means', 'variances', 'variances_norm', 'mean', 'std'\n",
      "    uns: 'spatial', 'hvg', 'log1p'\n",
      "    obsm: 'spatial'\n",
      "    layers: 'count'\n",
      "Begin to train ST data...\n",
      "Debugging\n"
     ]
    },
    {
     "name": "stderr",
     "output_type": "stream",
     "text": [
      "100%|██████████| 600/600 [00:18<00:00, 32.69it/s]"
     ]
    },
    {
     "name": "stdout",
     "output_type": "stream",
     "text": [
      "Optimization finished for ST data!\n"
     ]
    },
    {
     "name": "stderr",
     "output_type": "stream",
     "text": [
      "\n"
     ]
    }
   ],
   "source": [
    "model = GraphST.GraphST(adata, device=device)\n",
    "adata = model.train()"
   ]
  },
  {
   "cell_type": "code",
   "execution_count": 33,
   "metadata": {},
   "outputs": [
    {
     "data": {
      "text/plain": [
       "AnnData object with n_obs × n_vars = 4035 × 36601\n",
       "    obs: 'in_tissue', 'array_row', 'array_col'\n",
       "    var: 'gene_ids', 'feature_types', 'genome'\n",
       "    uns: 'spatial'\n",
       "    obsm: 'spatial'"
      ]
     },
     "execution_count": 33,
     "metadata": {},
     "output_type": "execute_result"
    }
   ],
   "source": [
    "adata_before"
   ]
  },
  {
   "cell_type": "code",
   "execution_count": 34,
   "metadata": {},
   "outputs": [
    {
     "data": {
      "text/plain": [
       "Index(['MIR1302-2HG', 'FAM138A', 'OR4F5', 'AL627309.1', 'AL627309.3',\n",
       "       'AL627309.2', 'AL627309.5', 'AL627309.4', 'AP006222.2', 'AL732372.1',\n",
       "       ...\n",
       "       'AC133551.1', 'AC136612.1', 'AC136616.1', 'AC136616.3', 'AC136616.2',\n",
       "       'AC141272.1', 'AC023491.2', 'AC007325.1', 'AC007325.4', 'AC007325.2'],\n",
       "      dtype='object', length=36601)"
      ]
     },
     "execution_count": 34,
     "metadata": {},
     "output_type": "execute_result"
    }
   ],
   "source": [
    "adata_before.var_names"
   ]
  },
  {
   "cell_type": "code",
   "execution_count": 35,
   "metadata": {},
   "outputs": [],
   "source": [
    "adata_after = adata.obsm['emb']\n",
    "orig_genes = adata_before.var_names.copy()\n",
    "highly_variable_genes = adata.var_names[adata.var['highly_variable']]\n",
    "adata_before = adata_before[:, highly_variable_genes].copy()\n",
    "\n",
    "\n",
    "gene_df2 = pd.DataFrame(adata_after,\n",
    "                        index=adata.obs.index,\n",
    "                        columns=highly_variable_genes)\n",
    "\n",
    "gene_df1 = pd.DataFrame(adata_before.X.toarray(),\n",
    "                        index=adata.obs.index,\n",
    "                        columns=adata_before.var.index)"
   ]
  },
  {
   "cell_type": "code",
   "execution_count": 36,
   "metadata": {},
   "outputs": [
    {
     "data": {
      "text/plain": [
       "((4035, 3000), (4035, 3000))"
      ]
     },
     "execution_count": 36,
     "metadata": {},
     "output_type": "execute_result"
    }
   ],
   "source": [
    "gene_df2.shape, gene_df1.shape"
   ]
  },
  {
   "cell_type": "code",
   "execution_count": 37,
   "metadata": {},
   "outputs": [],
   "source": [
    "assert gene_df1.shape == gene_df2.shape"
   ]
  },
  {
   "cell_type": "code",
   "execution_count": 38,
   "metadata": {},
   "outputs": [
    {
     "name": "stdout",
     "output_type": "stream",
     "text": [
      "Pearson Correlation Coefficient: 0.3186\n"
     ]
    }
   ],
   "source": [
    "vec1 = gene_df1.values.flatten()\n",
    "vec2 = gene_df2.values.flatten()\n",
    "\n",
    "pcc, _ = pearsonr(vec1, vec2)\n",
    "print(f\"Pearson Correlation Coefficient: {pcc:.4f}\")"
   ]
  },
  {
   "cell_type": "code",
   "execution_count": 39,
   "metadata": {},
   "outputs": [
    {
     "name": "stdout",
     "output_type": "stream",
     "text": [
      "Structural Similarity Index: 0.5102\n"
     ]
    }
   ],
   "source": [
    "arr1 = gene_df1.values\n",
    "arr2 = gene_df2.values\n",
    "\n",
    "ssim_value = ssim(arr1, arr2, data_range=arr2.max() - arr2.min())\n",
    "print(f\"Structural Similarity Index: {ssim_value:.4f}\")"
   ]
  },
  {
   "cell_type": "code",
   "execution_count": 40,
   "metadata": {},
   "outputs": [
    {
     "name": "stdout",
     "output_type": "stream",
     "text": [
      "Root Mean Squared Error: 22.1792\n"
     ]
    }
   ],
   "source": [
    "rmse_value = np.sqrt(mse(arr1, arr2))\n",
    "print(f\"Root Mean Squared Error: {rmse_value:.4f}\")"
   ]
  },
  {
   "cell_type": "code",
   "execution_count": 41,
   "metadata": {},
   "outputs": [],
   "source": [
    "def compute_morans_i(exp_matrix, w):\n",
    "    morans_i_list = np.empty(exp_matrix.shape[1])\n",
    "    for i in range(exp_matrix.shape[1]): # Iterate over genes\n",
    "        if i % 500 == 0: # Print progress every 100 genes\n",
    "            print(i)\n",
    "        morans_i_list[i] = Moran(exp_matrix[:, i], w).I\n",
    "    return np.mean(morans_i_list) # Return the average Moran's I value\n",
    "\n",
    "\n",
    "spatial_coords = adata.obsm['spatial']\n",
    "w = KNN.from_array(spatial_coords, k=5)\n"
   ]
  },
  {
   "cell_type": "code",
   "execution_count": 42,
   "metadata": {},
   "outputs": [
    {
     "name": "stdout",
     "output_type": "stream",
     "text": [
      "0\n",
      "500\n",
      "1000\n",
      "1500\n",
      "2000\n",
      "2500\n",
      "0\n",
      "500\n",
      "1000\n",
      "1500\n",
      "2000\n",
      "2500\n",
      "Moran's I before: 0.0992\n",
      "Moran's I after: 0.5713\n"
     ]
    }
   ],
   "source": [
    "morans_i_before = compute_morans_i(gene_df1.values, w)\n",
    "morans_i_after = compute_morans_i(gene_df2.values, w)\n",
    "print(f\"Moran's I before: {morans_i_before:.4f}\")\n",
    "print(f\"Moran's I after: {morans_i_after:.4f}\")"
   ]
  },
  {
   "cell_type": "code",
   "execution_count": 43,
   "metadata": {},
   "outputs": [],
   "source": [
    "results = {\n",
    "    'Model': 'GraphST',\n",
    "    'Dataset': dataset,\n",
    "    \"Moran's I before\": morans_i_before,\n",
    "    \"Moran's I after\": morans_i_after,\n",
    "    'PCC': pcc,\n",
    "    'SSIM': ssim_value,\n",
    "    'RMSE': rmse_value\n",
    "}\n",
    "\n",
    "output_path = '/home/lytq/Spatial-Transcriptomics-Benchmark/Results/Imputation/GraphST/metrics.csv'\n",
    "df_results = pd.DataFrame([results])\n",
    "df_results.to_csv(output_path, mode='a', header=False, index=False)"
   ]
  }
 ],
 "metadata": {
  "kernelspec": {
   "display_name": "SEDR",
   "language": "python",
   "name": "python3"
  },
  "language_info": {
   "codemirror_mode": {
    "name": "ipython",
    "version": 3
   },
   "file_extension": ".py",
   "mimetype": "text/x-python",
   "name": "python",
   "nbconvert_exporter": "python",
   "pygments_lexer": "ipython3",
   "version": "3.11.10"
  }
 },
 "nbformat": 4,
 "nbformat_minor": 2
}
